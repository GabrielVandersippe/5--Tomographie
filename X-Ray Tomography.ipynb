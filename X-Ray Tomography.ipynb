{
 "cells": [
  {
   "cell_type": "markdown",
   "id": "1dd6b66f",
   "metadata": {},
   "source": [
    "# Mini-projet: Tomographie à rayons X\n"
   ]
  },
  {
   "cell_type": "code",
   "execution_count": 1,
   "id": "a14052a1",
   "metadata": {},
   "outputs": [],
   "source": [
    "import numpy as np\n",
    "import matplotlib.pyplot as plt\n",
    "from skimage.data import shepp_logan_phantom\n",
    "from skimage.transform import rotate, resize"
   ]
  },
  {
   "cell_type": "markdown",
   "id": "3b4bfa39",
   "metadata": {},
   "source": [
    "On commence par charger une image synthétique (le \"Shepp-Logan phantom\") dont on fixe la taille à 256 x 256 pixels. Le Shepp-Logan phantom est une image de test standard créée par Larry Shepp et Benjamin F. Logan en 1974 et qui sert de modèle d'acquisition d'une tête humaine dans le développement et le test d'algorithmes de reconstruction d'images."
   ]
  },
  {
   "cell_type": "code",
   "execution_count": 2,
   "id": "d02a91e3",
   "metadata": {},
   "outputs": [],
   "source": [
    "# Load the image\n",
    "N = 256\n",
    "image = shepp_logan_phantom()\n",
    "image = resize(image, (N, N), anti_aliasing=True)"
   ]
  },
  {
   "cell_type": "markdown",
   "id": "ae1b2f19",
   "metadata": {},
   "source": [
    "## Q.1.1. Transformée de Radon\n",
    "\n",
    "**En utilisant la fonction *rotate* de scikit-image, implémenter une fonction permettant de calculer la transformée de Radon d'une image, appelée également sinogramme de l'image.**\n",
    "\n",
    "Pour un angle donné, on peut calculer la transformée de Radon de l'image en appliquant une rotation à l'image dans le sens inverse des aiguilles d'une montre et en sommant la valeur des pixels de l'image obtenue après rotation ligne par ligne."
   ]
  },
  {
   "cell_type": "code",
   "execution_count": 3,
   "id": "d9c590e4",
   "metadata": {},
   "outputs": [],
   "source": [
    "def radon_transform(image, theta):\n",
    "    \n",
    "    \"\"\"\n",
    "    Computes the Radon transform of the image\n",
    "    \n",
    "    Parameters\n",
    "    ----------\n",
    "    \n",
    "    image: 2D numpy array\n",
    "      input image\n",
    "      \n",
    "    theta: 1D numpy array\n",
    "      angles (specified in degrees)\n",
    "    \n",
    "    Return\n",
    "    ------\n",
    "    \n",
    "    out: numpy array\n",
    "      Radon transform (sinogram) of the input image\n",
    "      \n",
    "    \"\"\"\n",
    "    \n",
    "    #TODO: Implement the Radon transgorm"
   ]
  },
  {
   "cell_type": "code",
   "execution_count": 4,
   "id": "13114969",
   "metadata": {},
   "outputs": [],
   "source": [
    "# Computes the Radon transform of the image \n",
    "N_t = 256\n",
    "angles_count = 180\n",
    "theta = np.linspace(0., 180., angles_count, endpoint=False)\n",
    "sinogram = radon_transform(image, theta=theta)"
   ]
  },
  {
   "cell_type": "code",
   "execution_count": 5,
   "id": "23f4704e",
   "metadata": {},
   "outputs": [],
   "source": [
    "# Display the original image along with its sinogram"
   ]
  },
  {
   "cell_type": "markdown",
   "id": "511d987e",
   "metadata": {},
   "source": [
    "## Q.2.2. Rétroprojection\n",
    "\n",
    "**Implémenter la reconstruction de l'image tomographique à partir du sinogramme par rétro-projection. Commenter le résultat.**"
   ]
  },
  {
   "cell_type": "code",
   "execution_count": 6,
   "id": "21bd829a",
   "metadata": {},
   "outputs": [],
   "source": [
    "def backproj(g, N_t, angles_count, N):\n",
    "    \n",
    "    \"\"\"\n",
    "    Backprojection\n",
    "    \n",
    "    Parameters\n",
    "    ----------\n",
    "    \n",
    "    g: N_t x angle_count array\n",
    "      image sinogram\n",
    "    N_t: int\n",
    "      number of projection positions\n",
    "    angles_count: int\n",
    "      number of angular projections\n",
    "    N: int\n",
    "      image size\n",
    "      \n",
    "    Return\n",
    "    ------\n",
    "    \n",
    "    reconstructed: N x N numpy array\n",
    "      reconstructed image\n",
    "    \"\"\"\n",
    "    \n",
    "    # TODO: Retro-projection implementation"
   ]
  },
  {
   "cell_type": "code",
   "execution_count": 7,
   "id": "3634d84a",
   "metadata": {},
   "outputs": [],
   "source": [
    "# Backprojection of the sinogram\n",
    "f = backproj(sinogram, N_t, angles_count, N)"
   ]
  },
  {
   "cell_type": "code",
   "execution_count": 8,
   "id": "fc723b4c",
   "metadata": {},
   "outputs": [],
   "source": [
    "# Display the result"
   ]
  },
  {
   "cell_type": "markdown",
   "id": "7aa6d5b7",
   "metadata": {},
   "source": [
    "##  Q.2.3. Rétro-projection filtrée\n",
    "\n",
    "**Appliquer un filtrage adapté au sinogramme avant de rétro-projeter. Afficher le sinogramme filtré ainsi que le résultat de la reconstruction.**\n"
   ]
  },
  {
   "cell_type": "code",
   "execution_count": 9,
   "id": "8b04aed4",
   "metadata": {},
   "outputs": [],
   "source": [
    "def filter_sinogram(sinogram, N_t):\n",
    "\n",
    "    \"\"\"\n",
    "    Filter the sinogram\n",
    "    \n",
    "    Parameters\n",
    "    ----------\n",
    "    \n",
    "    sinogram: numpy array\n",
    "      sinogram\n",
    "    N_t: int\n",
    "      number of projection positions\n",
    "      \n",
    "    Return\n",
    "    ------\n",
    "    \n",
    "    reconstructed: N_t x angle_counts numpy array\n",
    "      reconstructed sinogram\n",
    "    \"\"\"\n",
    "    \n",
    "    # TODO: implement the filtering"
   ]
  },
  {
   "cell_type": "code",
   "execution_count": 10,
   "id": "f5be10d9",
   "metadata": {},
   "outputs": [],
   "source": [
    "filtered_sinogram = filter_sinogram(sinogram, N_t)"
   ]
  },
  {
   "cell_type": "code",
   "execution_count": 11,
   "id": "cbcff869",
   "metadata": {},
   "outputs": [],
   "source": [
    "# Display the sinogram and the filtered sinogram"
   ]
  },
  {
   "cell_type": "code",
   "execution_count": 12,
   "id": "61062694",
   "metadata": {},
   "outputs": [],
   "source": [
    "# Filtered backpropagation\n",
    "frec = backproj(filtered_sinogram, N_t, angles_count, N)"
   ]
  },
  {
   "cell_type": "code",
   "execution_count": 13,
   "id": "53ccde55",
   "metadata": {},
   "outputs": [],
   "source": [
    "# Display the reconstructed and the original images"
   ]
  }
 ],
 "metadata": {
  "kernelspec": {
   "display_name": "Python 3 (ipykernel)",
   "language": "python",
   "name": "python3"
  },
  "language_info": {
   "codemirror_mode": {
    "name": "ipython",
    "version": 3
   },
   "file_extension": ".py",
   "mimetype": "text/x-python",
   "name": "python",
   "nbconvert_exporter": "python",
   "pygments_lexer": "ipython3",
   "version": "3.8.19"
  }
 },
 "nbformat": 4,
 "nbformat_minor": 5
}
